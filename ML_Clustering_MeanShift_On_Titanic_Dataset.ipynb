{
  "nbformat": 4,
  "nbformat_minor": 0,
  "metadata": {
    "colab": {
      "name": "ML_Clustering_MeanShift_On_Titanic_Dataset.ipynb",
      "provenance": [],
      "authorship_tag": "ABX9TyMzeBslmOAzguZxdNjqWp5u"
    },
    "kernelspec": {
      "name": "python3",
      "display_name": "Python 3"
    }
  },
  "cells": [
    {
      "cell_type": "code",
      "metadata": {
        "id": "SKx1PXIgqMTb",
        "colab_type": "code",
        "colab": {}
      },
      "source": [
        "import numpy as np\n",
        "from sklearn.cluster import MeanShift, KMeans\n",
        "from sklearn import preprocessing\n",
        "import pandas as pd\n",
        "import matplotlib.pyplot as plt"
      ],
      "execution_count": 1,
      "outputs": []
    },
    {
      "cell_type": "code",
      "metadata": {
        "id": "-CiG24rrschO",
        "colab_type": "code",
        "colab": {}
      },
      "source": [
        "\n",
        "\n",
        "\n",
        "'''\n",
        "Pclass Passenger Class (1 = 1st; 2 = 2nd; 3 = 3rd)\n",
        "survival Survival (0 = No; 1 = Yes)\n",
        "name Name\n",
        "sex Sex\n",
        "age Age\n",
        "sibsp Number of Siblings/Spouses Aboard\n",
        "parch Number of Parents/Children Aboard\n",
        "ticket Ticket Number\n",
        "fare Passenger Fare (British pound)\n",
        "cabin Cabin\n",
        "embarked Port of Embarkation (C = Cherbourg; Q = Queenstown; S = Southampton)\n",
        "boat Lifeboat\n",
        "body Body Identification Number\n",
        "home.dest Home/Destination\n",
        "'''\n",
        "\n",
        "\n",
        "df = pd.read_excel('/titanic.xls')\n",
        "\n",
        "original_df = pd.DataFrame.copy(df)\n",
        "df.drop(['body','name'], 1, inplace=True)\n",
        "df.fillna(0,inplace=True)\n",
        "\n",
        "def handle_non_numerical_data(df):\n",
        "    \n",
        "    # handling non-numerical data: must convert.\n",
        "    columns = df.columns.values\n",
        "\n",
        "    for column in columns:\n",
        "        text_digit_vals = {}\n",
        "        def convert_to_int(val):\n",
        "            return text_digit_vals[val]\n",
        "\n",
        "        #print(column,df[column].dtype)\n",
        "        if df[column].dtype != np.int64 and df[column].dtype != np.float64:\n",
        "            \n",
        "            column_contents = df[column].values.tolist()\n",
        "            #finding just the uniques\n",
        "            unique_elements = set(column_contents)\n",
        "            # great, found them. \n",
        "            x = 0\n",
        "            for unique in unique_elements:\n",
        "                if unique not in text_digit_vals:\n",
        "                    # creating dict that contains new\n",
        "                    # id per unique string\n",
        "                    text_digit_vals[unique] = x\n",
        "                    x+=1\n",
        "            # now we map the new \"id\" vlaue\n",
        "            # to replace the string. \n",
        "            df[column] = list(map(convert_to_int,df[column]))\n",
        "\n",
        "    return df\n",
        "\n",
        "df = handle_non_numerical_data(df)\n",
        "df.drop(['ticket','home.dest'], 1, inplace=True)\n",
        "\n",
        "X = np.array(df.drop(['survived'], 1).astype(float))\n",
        "X = preprocessing.scale(X)\n",
        "y = np.array(df['survived'])"
      ],
      "execution_count": 2,
      "outputs": []
    },
    {
      "cell_type": "code",
      "metadata": {
        "id": "eTPJPQVms20r",
        "colab_type": "code",
        "colab": {
          "base_uri": "https://localhost:8080/",
          "height": 51
        },
        "outputId": "c7e217d9-a0db-4b4a-8ecc-c239b441c77b"
      },
      "source": [
        "clf = MeanShift()\n",
        "clf.fit(X)"
      ],
      "execution_count": 3,
      "outputs": [
        {
          "output_type": "execute_result",
          "data": {
            "text/plain": [
              "MeanShift(bandwidth=None, bin_seeding=False, cluster_all=True, max_iter=300,\n",
              "          min_bin_freq=1, n_jobs=None, seeds=None)"
            ]
          },
          "metadata": {
            "tags": []
          },
          "execution_count": 3
        }
      ]
    },
    {
      "cell_type": "code",
      "metadata": {
        "id": "z1z8VAYZs4K-",
        "colab_type": "code",
        "colab": {}
      },
      "source": [
        "labels = clf.labels_\n",
        "cluster_centers = clf.cluster_centers_"
      ],
      "execution_count": 4,
      "outputs": []
    },
    {
      "cell_type": "code",
      "metadata": {
        "id": "Sf1qcNGMtTKo",
        "colab_type": "code",
        "colab": {}
      },
      "source": [
        "original_df['cluster_group'] = np.nan"
      ],
      "execution_count": 7,
      "outputs": []
    },
    {
      "cell_type": "code",
      "metadata": {
        "id": "LAvEB6n9tF-S",
        "colab_type": "code",
        "colab": {
          "base_uri": "https://localhost:8080/",
          "height": 122
        },
        "outputId": "62d83f7f-0a87-43dc-e49a-6394b450ca00"
      },
      "source": [
        "for i in range(len(X)):\n",
        "    original_df['cluster_group'].iloc[i] = labels[i]"
      ],
      "execution_count": 8,
      "outputs": [
        {
          "output_type": "stream",
          "text": [
            "/usr/local/lib/python3.6/dist-packages/pandas/core/indexing.py:671: SettingWithCopyWarning: \n",
            "A value is trying to be set on a copy of a slice from a DataFrame\n",
            "\n",
            "See the caveats in the documentation: https://pandas.pydata.org/pandas-docs/stable/user_guide/indexing.html#returning-a-view-versus-a-copy\n",
            "  self._setitem_with_indexer(indexer, value)\n"
          ],
          "name": "stderr"
        }
      ]
    },
    {
      "cell_type": "code",
      "metadata": {
        "id": "FyquhgihtI1r",
        "colab_type": "code",
        "colab": {}
      },
      "source": [
        "n_clusters_ = len(np.unique(labels))\n",
        "survival_rates = {}\n",
        "for i in range(n_clusters_):\n",
        "    temp_df = original_df[ (original_df['cluster_group']==float(i)) ]\n",
        "    #print(temp_df.head())\n",
        "\n",
        "    survival_cluster = temp_df[  (temp_df['survived'] == 1) ]\n",
        "\n",
        "    survival_rate = len(survival_cluster) / len(temp_df)\n",
        "    #print(i,survival_rate)\n",
        "    survival_rates[i] = survival_rate\n",
        "    "
      ],
      "execution_count": 9,
      "outputs": []
    },
    {
      "cell_type": "code",
      "metadata": {
        "id": "_BwCoeKhteah",
        "colab_type": "code",
        "colab": {
          "base_uri": "https://localhost:8080/",
          "height": 34
        },
        "outputId": "d2eef852-5aaa-40ea-bf06-24adfae48db8"
      },
      "source": [
        "survival_rates"
      ],
      "execution_count": 10,
      "outputs": [
        {
          "output_type": "execute_result",
          "data": {
            "text/plain": [
              "{0: 0.37269076305220883, 1: 1.0, 2: 0.6136363636363636, 3: 0.1, 4: 0.6}"
            ]
          },
          "metadata": {
            "tags": []
          },
          "execution_count": 10
        }
      ]
    },
    {
      "cell_type": "code",
      "metadata": {
        "id": "kKsYw9oVtgvO",
        "colab_type": "code",
        "colab": {}
      },
      "source": [
        "# These rates are given for respective classes like 0 could be cabin 1 could be sex etc"
      ],
      "execution_count": null,
      "outputs": []
    }
  ]
}