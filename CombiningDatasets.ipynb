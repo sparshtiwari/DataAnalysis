{
  "nbformat": 4,
  "nbformat_minor": 0,
  "metadata": {
    "colab": {
      "name": "CombiningDatasets.ipynb",
      "provenance": [],
      "collapsed_sections": [],
      "authorship_tag": "ABX9TyMc4vV1Y79pOA2slcnhbfCX"
    },
    "kernelspec": {
      "name": "python3",
      "display_name": "Python 3"
    }
  },
  "cells": [
    {
      "cell_type": "code",
      "metadata": {
        "id": "DGEz6v-VS7wC",
        "colab_type": "code",
        "colab": {}
      },
      "source": [
        "import pandas as pd\n",
        "import numpy as np\n",
        "import matplotlib.pyplot as plt"
      ],
      "execution_count": 1,
      "outputs": []
    },
    {
      "cell_type": "code",
      "metadata": {
        "id": "wvo_yodUTVbP",
        "colab_type": "code",
        "colab": {}
      },
      "source": [
        "unemp = pd.read_csv(\"/output.csv\")"
      ],
      "execution_count": 2,
      "outputs": []
    },
    {
      "cell_type": "code",
      "metadata": {
        "id": "ecqBTqCKame0",
        "colab_type": "code",
        "colab": {
          "base_uri": "https://localhost:8080/",
          "height": 204
        },
        "outputId": "c992c591-bbec-45b5-ef91-3dbe570374c5"
      },
      "source": [
        "unemp.head()"
      ],
      "execution_count": 3,
      "outputs": [
        {
          "output_type": "execute_result",
          "data": {
            "text/html": [
              "<div>\n",
              "<style scoped>\n",
              "    .dataframe tbody tr th:only-of-type {\n",
              "        vertical-align: middle;\n",
              "    }\n",
              "\n",
              "    .dataframe tbody tr th {\n",
              "        vertical-align: top;\n",
              "    }\n",
              "\n",
              "    .dataframe thead th {\n",
              "        text-align: right;\n",
              "    }\n",
              "</style>\n",
              "<table border=\"1\" class=\"dataframe\">\n",
              "  <thead>\n",
              "    <tr style=\"text-align: right;\">\n",
              "      <th></th>\n",
              "      <th>Year</th>\n",
              "      <th>Month</th>\n",
              "      <th>State</th>\n",
              "      <th>County</th>\n",
              "      <th>Rate</th>\n",
              "    </tr>\n",
              "  </thead>\n",
              "  <tbody>\n",
              "    <tr>\n",
              "      <th>0</th>\n",
              "      <td>2015</td>\n",
              "      <td>February</td>\n",
              "      <td>Mississippi</td>\n",
              "      <td>Newton County</td>\n",
              "      <td>6.1</td>\n",
              "    </tr>\n",
              "    <tr>\n",
              "      <th>1</th>\n",
              "      <td>2015</td>\n",
              "      <td>February</td>\n",
              "      <td>Mississippi</td>\n",
              "      <td>Panola County</td>\n",
              "      <td>9.4</td>\n",
              "    </tr>\n",
              "    <tr>\n",
              "      <th>2</th>\n",
              "      <td>2015</td>\n",
              "      <td>February</td>\n",
              "      <td>Mississippi</td>\n",
              "      <td>Monroe County</td>\n",
              "      <td>7.9</td>\n",
              "    </tr>\n",
              "    <tr>\n",
              "      <th>3</th>\n",
              "      <td>2015</td>\n",
              "      <td>February</td>\n",
              "      <td>Mississippi</td>\n",
              "      <td>Hinds County</td>\n",
              "      <td>6.1</td>\n",
              "    </tr>\n",
              "    <tr>\n",
              "      <th>4</th>\n",
              "      <td>2015</td>\n",
              "      <td>February</td>\n",
              "      <td>Mississippi</td>\n",
              "      <td>Kemper County</td>\n",
              "      <td>10.6</td>\n",
              "    </tr>\n",
              "  </tbody>\n",
              "</table>\n",
              "</div>"
            ],
            "text/plain": [
              "   Year     Month        State         County  Rate\n",
              "0  2015  February  Mississippi  Newton County   6.1\n",
              "1  2015  February  Mississippi  Panola County   9.4\n",
              "2  2015  February  Mississippi  Monroe County   7.9\n",
              "3  2015  February  Mississippi   Hinds County   6.1\n",
              "4  2015  February  Mississippi  Kemper County  10.6"
            ]
          },
          "metadata": {
            "tags": []
          },
          "execution_count": 3
        }
      ]
    },
    {
      "cell_type": "code",
      "metadata": {
        "id": "_UGEoifoaoeg",
        "colab_type": "code",
        "colab": {}
      },
      "source": [
        "#Now lets bring in our previously prepared Minimum wage dataset to see if we could combine these and get some relevant information\n",
        "df = pd.read_csv(\"/minwage.csv\")"
      ],
      "execution_count": 4,
      "outputs": []
    },
    {
      "cell_type": "code",
      "metadata": {
        "id": "4Y9Qno6sbTt4",
        "colab_type": "code",
        "colab": {
          "base_uri": "https://localhost:8080/",
          "height": 258
        },
        "outputId": "f4e68c63-9a5e-40a4-b998-43c8aa5696a3"
      },
      "source": [
        "df.head()"
      ],
      "execution_count": 5,
      "outputs": [
        {
          "output_type": "execute_result",
          "data": {
            "text/html": [
              "<div>\n",
              "<style scoped>\n",
              "    .dataframe tbody tr th:only-of-type {\n",
              "        vertical-align: middle;\n",
              "    }\n",
              "\n",
              "    .dataframe tbody tr th {\n",
              "        vertical-align: top;\n",
              "    }\n",
              "\n",
              "    .dataframe thead th {\n",
              "        text-align: right;\n",
              "    }\n",
              "</style>\n",
              "<table border=\"1\" class=\"dataframe\">\n",
              "  <thead>\n",
              "    <tr style=\"text-align: right;\">\n",
              "      <th></th>\n",
              "      <th>Unnamed: 0</th>\n",
              "      <th>Year</th>\n",
              "      <th>State</th>\n",
              "      <th>Table_Data</th>\n",
              "      <th>Footnote</th>\n",
              "      <th>High.Value</th>\n",
              "      <th>Low.Value</th>\n",
              "      <th>CPI.Average</th>\n",
              "      <th>High.2018</th>\n",
              "      <th>Low.2018</th>\n",
              "    </tr>\n",
              "  </thead>\n",
              "  <tbody>\n",
              "    <tr>\n",
              "      <th>0</th>\n",
              "      <td>0</td>\n",
              "      <td>1968</td>\n",
              "      <td>Alabama</td>\n",
              "      <td>...</td>\n",
              "      <td>NaN</td>\n",
              "      <td>0.00000</td>\n",
              "      <td>0.00000</td>\n",
              "      <td>34.783333</td>\n",
              "      <td>0.00</td>\n",
              "      <td>0.00</td>\n",
              "    </tr>\n",
              "    <tr>\n",
              "      <th>1</th>\n",
              "      <td>1</td>\n",
              "      <td>1968</td>\n",
              "      <td>Alaska</td>\n",
              "      <td>2.10</td>\n",
              "      <td>NaN</td>\n",
              "      <td>2.10000</td>\n",
              "      <td>2.10000</td>\n",
              "      <td>34.783333</td>\n",
              "      <td>15.12</td>\n",
              "      <td>15.12</td>\n",
              "    </tr>\n",
              "    <tr>\n",
              "      <th>2</th>\n",
              "      <td>2</td>\n",
              "      <td>1968</td>\n",
              "      <td>Arizona</td>\n",
              "      <td>18.72 - 26.40/wk(b)</td>\n",
              "      <td>(b)</td>\n",
              "      <td>0.66000</td>\n",
              "      <td>0.46800</td>\n",
              "      <td>34.783333</td>\n",
              "      <td>4.75</td>\n",
              "      <td>3.37</td>\n",
              "    </tr>\n",
              "    <tr>\n",
              "      <th>3</th>\n",
              "      <td>3</td>\n",
              "      <td>1968</td>\n",
              "      <td>Arkansas</td>\n",
              "      <td>1.25/day(b)</td>\n",
              "      <td>(b)</td>\n",
              "      <td>0.15625</td>\n",
              "      <td>0.15625</td>\n",
              "      <td>34.783333</td>\n",
              "      <td>1.12</td>\n",
              "      <td>1.12</td>\n",
              "    </tr>\n",
              "    <tr>\n",
              "      <th>4</th>\n",
              "      <td>4</td>\n",
              "      <td>1968</td>\n",
              "      <td>California</td>\n",
              "      <td>1.65(b)</td>\n",
              "      <td>(b)</td>\n",
              "      <td>1.65000</td>\n",
              "      <td>1.65000</td>\n",
              "      <td>34.783333</td>\n",
              "      <td>11.88</td>\n",
              "      <td>11.88</td>\n",
              "    </tr>\n",
              "  </tbody>\n",
              "</table>\n",
              "</div>"
            ],
            "text/plain": [
              "   Unnamed: 0  Year       State  ... CPI.Average High.2018  Low.2018\n",
              "0           0  1968     Alabama  ...   34.783333      0.00      0.00\n",
              "1           1  1968      Alaska  ...   34.783333     15.12     15.12\n",
              "2           2  1968     Arizona  ...   34.783333      4.75      3.37\n",
              "3           3  1968    Arkansas  ...   34.783333      1.12      1.12\n",
              "4           4  1968  California  ...   34.783333     11.88     11.88\n",
              "\n",
              "[5 rows x 10 columns]"
            ]
          },
          "metadata": {
            "tags": []
          },
          "execution_count": 5
        }
      ]
    },
    {
      "cell_type": "code",
      "metadata": {
        "id": "uOACGfIUbUze",
        "colab_type": "code",
        "colab": {
          "base_uri": "https://localhost:8080/",
          "height": 289
        },
        "outputId": "cfa5b577-8b44-45b8-e63d-23b341415feb"
      },
      "source": [
        "act_min_wage = pd.DataFrame()\n",
        "\n",
        "for name, group in df.groupby(\"State\"):\n",
        "    if act_min_wage.empty:\n",
        "        act_min_wage = group.set_index(\"Year\")[[\"Low.2018\"]].rename(columns={\"Low.2018\":name})\n",
        "    else:\n",
        "        act_min_wage = act_min_wage.join(group.set_index(\"Year\")[[\"Low.2018\"]].rename(columns={\"Low.2018\":name}))\n",
        "\n",
        "act_min_wage.head()"
      ],
      "execution_count": 6,
      "outputs": [
        {
          "output_type": "execute_result",
          "data": {
            "text/html": [
              "<div>\n",
              "<style scoped>\n",
              "    .dataframe tbody tr th:only-of-type {\n",
              "        vertical-align: middle;\n",
              "    }\n",
              "\n",
              "    .dataframe tbody tr th {\n",
              "        vertical-align: top;\n",
              "    }\n",
              "\n",
              "    .dataframe thead th {\n",
              "        text-align: right;\n",
              "    }\n",
              "</style>\n",
              "<table border=\"1\" class=\"dataframe\">\n",
              "  <thead>\n",
              "    <tr style=\"text-align: right;\">\n",
              "      <th></th>\n",
              "      <th>Alabama</th>\n",
              "      <th>Alaska</th>\n",
              "      <th>Arizona</th>\n",
              "      <th>Arkansas</th>\n",
              "      <th>California</th>\n",
              "      <th>Colorado</th>\n",
              "      <th>Connecticut</th>\n",
              "      <th>Delaware</th>\n",
              "      <th>District of Columbia</th>\n",
              "      <th>Federal (FLSA)</th>\n",
              "      <th>Florida</th>\n",
              "      <th>Georgia</th>\n",
              "      <th>Guam</th>\n",
              "      <th>Hawaii</th>\n",
              "      <th>Idaho</th>\n",
              "      <th>Illinois</th>\n",
              "      <th>Indiana</th>\n",
              "      <th>Iowa</th>\n",
              "      <th>Kansas</th>\n",
              "      <th>Kentucky</th>\n",
              "      <th>Louisiana</th>\n",
              "      <th>Maine</th>\n",
              "      <th>Maryland</th>\n",
              "      <th>Massachusetts</th>\n",
              "      <th>Michigan</th>\n",
              "      <th>Minnesota</th>\n",
              "      <th>Mississippi</th>\n",
              "      <th>Missouri</th>\n",
              "      <th>Montana</th>\n",
              "      <th>Nebraska</th>\n",
              "      <th>Nevada</th>\n",
              "      <th>New Hampshire</th>\n",
              "      <th>New Jersey</th>\n",
              "      <th>New Mexico</th>\n",
              "      <th>New York</th>\n",
              "      <th>North Carolina</th>\n",
              "      <th>North Dakota</th>\n",
              "      <th>Ohio</th>\n",
              "      <th>Oklahoma</th>\n",
              "      <th>Oregon</th>\n",
              "      <th>Pennsylvania</th>\n",
              "      <th>Puerto Rico</th>\n",
              "      <th>Rhode Island</th>\n",
              "      <th>South Carolina</th>\n",
              "      <th>South Dakota</th>\n",
              "      <th>Tennessee</th>\n",
              "      <th>Texas</th>\n",
              "      <th>U.S. Virgin Islands</th>\n",
              "      <th>Utah</th>\n",
              "      <th>Vermont</th>\n",
              "      <th>Virginia</th>\n",
              "      <th>Washington</th>\n",
              "      <th>West Virginia</th>\n",
              "      <th>Wisconsin</th>\n",
              "      <th>Wyoming</th>\n",
              "    </tr>\n",
              "    <tr>\n",
              "      <th>Year</th>\n",
              "      <th></th>\n",
              "      <th></th>\n",
              "      <th></th>\n",
              "      <th></th>\n",
              "      <th></th>\n",
              "      <th></th>\n",
              "      <th></th>\n",
              "      <th></th>\n",
              "      <th></th>\n",
              "      <th></th>\n",
              "      <th></th>\n",
              "      <th></th>\n",
              "      <th></th>\n",
              "      <th></th>\n",
              "      <th></th>\n",
              "      <th></th>\n",
              "      <th></th>\n",
              "      <th></th>\n",
              "      <th></th>\n",
              "      <th></th>\n",
              "      <th></th>\n",
              "      <th></th>\n",
              "      <th></th>\n",
              "      <th></th>\n",
              "      <th></th>\n",
              "      <th></th>\n",
              "      <th></th>\n",
              "      <th></th>\n",
              "      <th></th>\n",
              "      <th></th>\n",
              "      <th></th>\n",
              "      <th></th>\n",
              "      <th></th>\n",
              "      <th></th>\n",
              "      <th></th>\n",
              "      <th></th>\n",
              "      <th></th>\n",
              "      <th></th>\n",
              "      <th></th>\n",
              "      <th></th>\n",
              "      <th></th>\n",
              "      <th></th>\n",
              "      <th></th>\n",
              "      <th></th>\n",
              "      <th></th>\n",
              "      <th></th>\n",
              "      <th></th>\n",
              "      <th></th>\n",
              "      <th></th>\n",
              "      <th></th>\n",
              "      <th></th>\n",
              "      <th></th>\n",
              "      <th></th>\n",
              "      <th></th>\n",
              "      <th></th>\n",
              "    </tr>\n",
              "  </thead>\n",
              "  <tbody>\n",
              "    <tr>\n",
              "      <th>1968</th>\n",
              "      <td>0.0</td>\n",
              "      <td>15.12</td>\n",
              "      <td>3.37</td>\n",
              "      <td>1.12</td>\n",
              "      <td>11.88</td>\n",
              "      <td>7.20</td>\n",
              "      <td>10.08</td>\n",
              "      <td>9.00</td>\n",
              "      <td>9.00</td>\n",
              "      <td>8.28</td>\n",
              "      <td>0.0</td>\n",
              "      <td>0.00</td>\n",
              "      <td>9.00</td>\n",
              "      <td>9.00</td>\n",
              "      <td>8.28</td>\n",
              "      <td>0.00</td>\n",
              "      <td>8.28</td>\n",
              "      <td>0.0</td>\n",
              "      <td>0.0</td>\n",
              "      <td>4.68</td>\n",
              "      <td>0.0</td>\n",
              "      <td>10.08</td>\n",
              "      <td>7.20</td>\n",
              "      <td>11.52</td>\n",
              "      <td>9.00</td>\n",
              "      <td>5.04</td>\n",
              "      <td>0.0</td>\n",
              "      <td>0.0</td>\n",
              "      <td>0.00</td>\n",
              "      <td>7.20</td>\n",
              "      <td>9.00</td>\n",
              "      <td>10.08</td>\n",
              "      <td>10.08</td>\n",
              "      <td>8.28</td>\n",
              "      <td>11.52</td>\n",
              "      <td>7.20</td>\n",
              "      <td>7.20</td>\n",
              "      <td>5.40</td>\n",
              "      <td>7.20</td>\n",
              "      <td>9.00</td>\n",
              "      <td>8.28</td>\n",
              "      <td>3.10</td>\n",
              "      <td>10.08</td>\n",
              "      <td>0.0</td>\n",
              "      <td>3.06</td>\n",
              "      <td>0.0</td>\n",
              "      <td>0.00</td>\n",
              "      <td>NaN</td>\n",
              "      <td>7.20</td>\n",
              "      <td>10.08</td>\n",
              "      <td>0.0</td>\n",
              "      <td>11.52</td>\n",
              "      <td>7.20</td>\n",
              "      <td>9.00</td>\n",
              "      <td>8.64</td>\n",
              "    </tr>\n",
              "    <tr>\n",
              "      <th>1969</th>\n",
              "      <td>0.0</td>\n",
              "      <td>14.33</td>\n",
              "      <td>3.19</td>\n",
              "      <td>1.07</td>\n",
              "      <td>11.26</td>\n",
              "      <td>6.83</td>\n",
              "      <td>9.56</td>\n",
              "      <td>8.53</td>\n",
              "      <td>8.53</td>\n",
              "      <td>7.85</td>\n",
              "      <td>0.0</td>\n",
              "      <td>0.00</td>\n",
              "      <td>8.53</td>\n",
              "      <td>8.53</td>\n",
              "      <td>7.85</td>\n",
              "      <td>0.00</td>\n",
              "      <td>7.85</td>\n",
              "      <td>0.0</td>\n",
              "      <td>0.0</td>\n",
              "      <td>4.44</td>\n",
              "      <td>0.0</td>\n",
              "      <td>9.56</td>\n",
              "      <td>6.83</td>\n",
              "      <td>10.92</td>\n",
              "      <td>8.53</td>\n",
              "      <td>4.78</td>\n",
              "      <td>0.0</td>\n",
              "      <td>0.0</td>\n",
              "      <td>0.00</td>\n",
              "      <td>6.83</td>\n",
              "      <td>8.53</td>\n",
              "      <td>9.56</td>\n",
              "      <td>9.56</td>\n",
              "      <td>7.85</td>\n",
              "      <td>10.92</td>\n",
              "      <td>6.83</td>\n",
              "      <td>6.83</td>\n",
              "      <td>5.12</td>\n",
              "      <td>6.83</td>\n",
              "      <td>8.53</td>\n",
              "      <td>7.85</td>\n",
              "      <td>2.94</td>\n",
              "      <td>9.56</td>\n",
              "      <td>0.0</td>\n",
              "      <td>2.90</td>\n",
              "      <td>0.0</td>\n",
              "      <td>0.00</td>\n",
              "      <td>NaN</td>\n",
              "      <td>6.83</td>\n",
              "      <td>9.56</td>\n",
              "      <td>0.0</td>\n",
              "      <td>10.92</td>\n",
              "      <td>6.83</td>\n",
              "      <td>8.53</td>\n",
              "      <td>8.19</td>\n",
              "    </tr>\n",
              "    <tr>\n",
              "      <th>1970</th>\n",
              "      <td>0.0</td>\n",
              "      <td>13.54</td>\n",
              "      <td>3.02</td>\n",
              "      <td>7.09</td>\n",
              "      <td>10.64</td>\n",
              "      <td>6.45</td>\n",
              "      <td>10.32</td>\n",
              "      <td>8.06</td>\n",
              "      <td>10.32</td>\n",
              "      <td>8.38</td>\n",
              "      <td>0.0</td>\n",
              "      <td>0.00</td>\n",
              "      <td>10.32</td>\n",
              "      <td>10.32</td>\n",
              "      <td>8.06</td>\n",
              "      <td>0.00</td>\n",
              "      <td>8.06</td>\n",
              "      <td>0.0</td>\n",
              "      <td>0.0</td>\n",
              "      <td>4.19</td>\n",
              "      <td>0.0</td>\n",
              "      <td>10.32</td>\n",
              "      <td>8.38</td>\n",
              "      <td>10.32</td>\n",
              "      <td>8.06</td>\n",
              "      <td>4.51</td>\n",
              "      <td>0.0</td>\n",
              "      <td>0.0</td>\n",
              "      <td>0.00</td>\n",
              "      <td>6.45</td>\n",
              "      <td>8.38</td>\n",
              "      <td>9.35</td>\n",
              "      <td>9.67</td>\n",
              "      <td>8.38</td>\n",
              "      <td>10.32</td>\n",
              "      <td>8.06</td>\n",
              "      <td>6.45</td>\n",
              "      <td>4.84</td>\n",
              "      <td>6.45</td>\n",
              "      <td>8.06</td>\n",
              "      <td>8.38</td>\n",
              "      <td>2.77</td>\n",
              "      <td>10.32</td>\n",
              "      <td>0.0</td>\n",
              "      <td>6.45</td>\n",
              "      <td>0.0</td>\n",
              "      <td>0.00</td>\n",
              "      <td>NaN</td>\n",
              "      <td>6.45</td>\n",
              "      <td>10.32</td>\n",
              "      <td>0.0</td>\n",
              "      <td>10.32</td>\n",
              "      <td>6.45</td>\n",
              "      <td>8.38</td>\n",
              "      <td>8.38</td>\n",
              "    </tr>\n",
              "    <tr>\n",
              "      <th>1971</th>\n",
              "      <td>0.0</td>\n",
              "      <td>12.99</td>\n",
              "      <td>2.89</td>\n",
              "      <td>6.80</td>\n",
              "      <td>10.20</td>\n",
              "      <td>6.18</td>\n",
              "      <td>9.89</td>\n",
              "      <td>7.73</td>\n",
              "      <td>9.89</td>\n",
              "      <td>8.04</td>\n",
              "      <td>0.0</td>\n",
              "      <td>0.00</td>\n",
              "      <td>9.89</td>\n",
              "      <td>9.89</td>\n",
              "      <td>7.73</td>\n",
              "      <td>0.00</td>\n",
              "      <td>7.73</td>\n",
              "      <td>0.0</td>\n",
              "      <td>0.0</td>\n",
              "      <td>4.02</td>\n",
              "      <td>0.0</td>\n",
              "      <td>9.89</td>\n",
              "      <td>8.04</td>\n",
              "      <td>9.89</td>\n",
              "      <td>7.73</td>\n",
              "      <td>4.33</td>\n",
              "      <td>0.0</td>\n",
              "      <td>0.0</td>\n",
              "      <td>0.00</td>\n",
              "      <td>6.18</td>\n",
              "      <td>8.04</td>\n",
              "      <td>8.97</td>\n",
              "      <td>9.28</td>\n",
              "      <td>8.04</td>\n",
              "      <td>9.89</td>\n",
              "      <td>7.73</td>\n",
              "      <td>6.18</td>\n",
              "      <td>4.64</td>\n",
              "      <td>6.18</td>\n",
              "      <td>7.73</td>\n",
              "      <td>8.04</td>\n",
              "      <td>2.66</td>\n",
              "      <td>9.89</td>\n",
              "      <td>0.0</td>\n",
              "      <td>6.18</td>\n",
              "      <td>0.0</td>\n",
              "      <td>0.00</td>\n",
              "      <td>NaN</td>\n",
              "      <td>6.18</td>\n",
              "      <td>9.89</td>\n",
              "      <td>0.0</td>\n",
              "      <td>9.89</td>\n",
              "      <td>6.18</td>\n",
              "      <td>8.04</td>\n",
              "      <td>8.04</td>\n",
              "    </tr>\n",
              "    <tr>\n",
              "      <th>1972</th>\n",
              "      <td>0.0</td>\n",
              "      <td>12.57</td>\n",
              "      <td>2.80</td>\n",
              "      <td>7.19</td>\n",
              "      <td>9.88</td>\n",
              "      <td>5.99</td>\n",
              "      <td>11.08</td>\n",
              "      <td>9.58</td>\n",
              "      <td>9.58</td>\n",
              "      <td>9.58</td>\n",
              "      <td>0.0</td>\n",
              "      <td>7.49</td>\n",
              "      <td>11.38</td>\n",
              "      <td>9.58</td>\n",
              "      <td>8.38</td>\n",
              "      <td>8.38</td>\n",
              "      <td>7.49</td>\n",
              "      <td>0.0</td>\n",
              "      <td>0.0</td>\n",
              "      <td>3.89</td>\n",
              "      <td>0.0</td>\n",
              "      <td>8.38</td>\n",
              "      <td>9.58</td>\n",
              "      <td>10.48</td>\n",
              "      <td>9.58</td>\n",
              "      <td>4.49</td>\n",
              "      <td>0.0</td>\n",
              "      <td>0.0</td>\n",
              "      <td>9.58</td>\n",
              "      <td>5.99</td>\n",
              "      <td>9.58</td>\n",
              "      <td>9.58</td>\n",
              "      <td>8.98</td>\n",
              "      <td>7.78</td>\n",
              "      <td>11.08</td>\n",
              "      <td>8.68</td>\n",
              "      <td>5.99</td>\n",
              "      <td>4.49</td>\n",
              "      <td>8.38</td>\n",
              "      <td>7.49</td>\n",
              "      <td>9.58</td>\n",
              "      <td>3.89</td>\n",
              "      <td>9.58</td>\n",
              "      <td>0.0</td>\n",
              "      <td>5.99</td>\n",
              "      <td>0.0</td>\n",
              "      <td>8.38</td>\n",
              "      <td>NaN</td>\n",
              "      <td>7.19</td>\n",
              "      <td>9.58</td>\n",
              "      <td>0.0</td>\n",
              "      <td>9.58</td>\n",
              "      <td>7.19</td>\n",
              "      <td>8.68</td>\n",
              "      <td>8.98</td>\n",
              "    </tr>\n",
              "  </tbody>\n",
              "</table>\n",
              "</div>"
            ],
            "text/plain": [
              "      Alabama  Alaska  Arizona  ...  West Virginia  Wisconsin  Wyoming\n",
              "Year                            ...                                   \n",
              "1968      0.0   15.12     3.37  ...           7.20       9.00     8.64\n",
              "1969      0.0   14.33     3.19  ...           6.83       8.53     8.19\n",
              "1970      0.0   13.54     3.02  ...           6.45       8.38     8.38\n",
              "1971      0.0   12.99     2.89  ...           6.18       8.04     8.04\n",
              "1972      0.0   12.57     2.80  ...           7.19       8.68     8.98\n",
              "\n",
              "[5 rows x 55 columns]"
            ]
          },
          "metadata": {
            "tags": []
          },
          "execution_count": 6
        }
      ]
    },
    {
      "cell_type": "code",
      "metadata": {
        "id": "Gu6MemBkbibW",
        "colab_type": "code",
        "colab": {}
      },
      "source": [
        "act_min_wage = act_min_wage.replace(0,np.NaN).dropna(axis=1)"
      ],
      "execution_count": 7,
      "outputs": []
    },
    {
      "cell_type": "code",
      "metadata": {
        "id": "Zlu6oUH_byrb",
        "colab_type": "code",
        "colab": {}
      },
      "source": [
        "#What do we need now? basically our purpose here is to check if there is any relationship between the 2 datasets i.e. are they correlated or not so this means that what we need is the correlation between the 2.\n",
        "#For our correlation we need to create a 3rd dataset which will be basically the unemployment dataset with a new column of minimum wage added to it statewise so that we can correlate the both.\n",
        "#lets define a function to ease our mapping.\n",
        "def min_wage(year, state):\n",
        "  try:\n",
        "    return act_min_wage.loc[year][state]\n",
        "  except:\n",
        "    return np.NaN"
      ],
      "execution_count": 8,
      "outputs": []
    },
    {
      "cell_type": "code",
      "metadata": {
        "id": "zfwPc5_jdGYL",
        "colab_type": "code",
        "colab": {
          "base_uri": "https://localhost:8080/",
          "height": 34
        },
        "outputId": "f3bda816-7beb-483e-c55b-57e495f9fb14"
      },
      "source": [
        "min_wage(2007, \"California\")"
      ],
      "execution_count": 9,
      "outputs": [
        {
          "output_type": "execute_result",
          "data": {
            "text/plain": [
              "9.06"
            ]
          },
          "metadata": {
            "tags": []
          },
          "execution_count": 9
        }
      ]
    },
    {
      "cell_type": "code",
      "metadata": {
        "id": "v2IFs3bydQEV",
        "colab_type": "code",
        "colab": {}
      },
      "source": [
        "#Looks like our function is working as required.Lets move ahead and do our mapping.\n",
        "unemp['min_wage'] = list(map(min_wage, unemp['Year'], unemp['State']))"
      ],
      "execution_count": 10,
      "outputs": []
    },
    {
      "cell_type": "code",
      "metadata": {
        "id": "YNKFxmK5dq4y",
        "colab_type": "code",
        "colab": {
          "base_uri": "https://localhost:8080/",
          "height": 204
        },
        "outputId": "b0aaec9b-cdde-4aba-a25c-cb97b654fabe"
      },
      "source": [
        "unemp.head()"
      ],
      "execution_count": 11,
      "outputs": [
        {
          "output_type": "execute_result",
          "data": {
            "text/html": [
              "<div>\n",
              "<style scoped>\n",
              "    .dataframe tbody tr th:only-of-type {\n",
              "        vertical-align: middle;\n",
              "    }\n",
              "\n",
              "    .dataframe tbody tr th {\n",
              "        vertical-align: top;\n",
              "    }\n",
              "\n",
              "    .dataframe thead th {\n",
              "        text-align: right;\n",
              "    }\n",
              "</style>\n",
              "<table border=\"1\" class=\"dataframe\">\n",
              "  <thead>\n",
              "    <tr style=\"text-align: right;\">\n",
              "      <th></th>\n",
              "      <th>Year</th>\n",
              "      <th>Month</th>\n",
              "      <th>State</th>\n",
              "      <th>County</th>\n",
              "      <th>Rate</th>\n",
              "      <th>min_wage</th>\n",
              "    </tr>\n",
              "  </thead>\n",
              "  <tbody>\n",
              "    <tr>\n",
              "      <th>0</th>\n",
              "      <td>2015</td>\n",
              "      <td>February</td>\n",
              "      <td>Mississippi</td>\n",
              "      <td>Newton County</td>\n",
              "      <td>6.1</td>\n",
              "      <td>NaN</td>\n",
              "    </tr>\n",
              "    <tr>\n",
              "      <th>1</th>\n",
              "      <td>2015</td>\n",
              "      <td>February</td>\n",
              "      <td>Mississippi</td>\n",
              "      <td>Panola County</td>\n",
              "      <td>9.4</td>\n",
              "      <td>NaN</td>\n",
              "    </tr>\n",
              "    <tr>\n",
              "      <th>2</th>\n",
              "      <td>2015</td>\n",
              "      <td>February</td>\n",
              "      <td>Mississippi</td>\n",
              "      <td>Monroe County</td>\n",
              "      <td>7.9</td>\n",
              "      <td>NaN</td>\n",
              "    </tr>\n",
              "    <tr>\n",
              "      <th>3</th>\n",
              "      <td>2015</td>\n",
              "      <td>February</td>\n",
              "      <td>Mississippi</td>\n",
              "      <td>Hinds County</td>\n",
              "      <td>6.1</td>\n",
              "      <td>NaN</td>\n",
              "    </tr>\n",
              "    <tr>\n",
              "      <th>4</th>\n",
              "      <td>2015</td>\n",
              "      <td>February</td>\n",
              "      <td>Mississippi</td>\n",
              "      <td>Kemper County</td>\n",
              "      <td>10.6</td>\n",
              "      <td>NaN</td>\n",
              "    </tr>\n",
              "  </tbody>\n",
              "</table>\n",
              "</div>"
            ],
            "text/plain": [
              "   Year     Month        State         County  Rate  min_wage\n",
              "0  2015  February  Mississippi  Newton County   6.1       NaN\n",
              "1  2015  February  Mississippi  Panola County   9.4       NaN\n",
              "2  2015  February  Mississippi  Monroe County   7.9       NaN\n",
              "3  2015  February  Mississippi   Hinds County   6.1       NaN\n",
              "4  2015  February  Mississippi  Kemper County  10.6       NaN"
            ]
          },
          "metadata": {
            "tags": []
          },
          "execution_count": 11
        }
      ]
    },
    {
      "cell_type": "code",
      "metadata": {
        "id": "6JoAHppxdvNU",
        "colab_type": "code",
        "colab": {
          "base_uri": "https://localhost:8080/",
          "height": 204
        },
        "outputId": "bcf1dc60-9a4a-4aec-ec04-798c123d6d9c"
      },
      "source": [
        "unemp.tail()"
      ],
      "execution_count": 12,
      "outputs": [
        {
          "output_type": "execute_result",
          "data": {
            "text/html": [
              "<div>\n",
              "<style scoped>\n",
              "    .dataframe tbody tr th:only-of-type {\n",
              "        vertical-align: middle;\n",
              "    }\n",
              "\n",
              "    .dataframe tbody tr th {\n",
              "        vertical-align: top;\n",
              "    }\n",
              "\n",
              "    .dataframe thead th {\n",
              "        text-align: right;\n",
              "    }\n",
              "</style>\n",
              "<table border=\"1\" class=\"dataframe\">\n",
              "  <thead>\n",
              "    <tr style=\"text-align: right;\">\n",
              "      <th></th>\n",
              "      <th>Year</th>\n",
              "      <th>Month</th>\n",
              "      <th>State</th>\n",
              "      <th>County</th>\n",
              "      <th>Rate</th>\n",
              "      <th>min_wage</th>\n",
              "    </tr>\n",
              "  </thead>\n",
              "  <tbody>\n",
              "    <tr>\n",
              "      <th>885543</th>\n",
              "      <td>2009</td>\n",
              "      <td>November</td>\n",
              "      <td>Maine</td>\n",
              "      <td>Somerset County</td>\n",
              "      <td>10.5</td>\n",
              "      <td>8.46</td>\n",
              "    </tr>\n",
              "    <tr>\n",
              "      <th>885544</th>\n",
              "      <td>2009</td>\n",
              "      <td>November</td>\n",
              "      <td>Maine</td>\n",
              "      <td>Oxford County</td>\n",
              "      <td>10.5</td>\n",
              "      <td>8.46</td>\n",
              "    </tr>\n",
              "    <tr>\n",
              "      <th>885545</th>\n",
              "      <td>2009</td>\n",
              "      <td>November</td>\n",
              "      <td>Maine</td>\n",
              "      <td>Knox County</td>\n",
              "      <td>7.5</td>\n",
              "      <td>8.46</td>\n",
              "    </tr>\n",
              "    <tr>\n",
              "      <th>885546</th>\n",
              "      <td>2009</td>\n",
              "      <td>November</td>\n",
              "      <td>Maine</td>\n",
              "      <td>Piscataquis County</td>\n",
              "      <td>11.3</td>\n",
              "      <td>8.46</td>\n",
              "    </tr>\n",
              "    <tr>\n",
              "      <th>885547</th>\n",
              "      <td>2009</td>\n",
              "      <td>November</td>\n",
              "      <td>Maine</td>\n",
              "      <td>Aroostook County</td>\n",
              "      <td>9.0</td>\n",
              "      <td>8.46</td>\n",
              "    </tr>\n",
              "  </tbody>\n",
              "</table>\n",
              "</div>"
            ],
            "text/plain": [
              "        Year     Month  State              County  Rate  min_wage\n",
              "885543  2009  November  Maine     Somerset County  10.5      8.46\n",
              "885544  2009  November  Maine       Oxford County  10.5      8.46\n",
              "885545  2009  November  Maine         Knox County   7.5      8.46\n",
              "885546  2009  November  Maine  Piscataquis County  11.3      8.46\n",
              "885547  2009  November  Maine    Aroostook County   9.0      8.46"
            ]
          },
          "metadata": {
            "tags": []
          },
          "execution_count": 12
        }
      ]
    },
    {
      "cell_type": "code",
      "metadata": {
        "id": "elePnRH1dytW",
        "colab_type": "code",
        "colab": {
          "base_uri": "https://localhost:8080/",
          "height": 111
        },
        "outputId": "9a700879-3ec1-400b-a686-5c66bfead36c"
      },
      "source": [
        "unemp[['Rate','min_wage']].corr()"
      ],
      "execution_count": 13,
      "outputs": [
        {
          "output_type": "execute_result",
          "data": {
            "text/html": [
              "<div>\n",
              "<style scoped>\n",
              "    .dataframe tbody tr th:only-of-type {\n",
              "        vertical-align: middle;\n",
              "    }\n",
              "\n",
              "    .dataframe tbody tr th {\n",
              "        vertical-align: top;\n",
              "    }\n",
              "\n",
              "    .dataframe thead th {\n",
              "        text-align: right;\n",
              "    }\n",
              "</style>\n",
              "<table border=\"1\" class=\"dataframe\">\n",
              "  <thead>\n",
              "    <tr style=\"text-align: right;\">\n",
              "      <th></th>\n",
              "      <th>Rate</th>\n",
              "      <th>min_wage</th>\n",
              "    </tr>\n",
              "  </thead>\n",
              "  <tbody>\n",
              "    <tr>\n",
              "      <th>Rate</th>\n",
              "      <td>1.000000</td>\n",
              "      <td>0.153047</td>\n",
              "    </tr>\n",
              "    <tr>\n",
              "      <th>min_wage</th>\n",
              "      <td>0.153047</td>\n",
              "      <td>1.000000</td>\n",
              "    </tr>\n",
              "  </tbody>\n",
              "</table>\n",
              "</div>"
            ],
            "text/plain": [
              "              Rate  min_wage\n",
              "Rate      1.000000  0.153047\n",
              "min_wage  0.153047  1.000000"
            ]
          },
          "metadata": {
            "tags": []
          },
          "execution_count": 13
        }
      ]
    },
    {
      "cell_type": "code",
      "metadata": {
        "id": "XFPlPI5CeGEq",
        "colab_type": "code",
        "colab": {
          "base_uri": "https://localhost:8080/",
          "height": 111
        },
        "outputId": "6d43cfc1-b091-4fd6-eacf-b3ec7c787a28"
      },
      "source": [
        "#we have a near to positive correlation between the unemployment rate and minimum wage.\n",
        "#Lets try tp get their covariance too.\n",
        "unemp[['Rate','min_wage']].cov()"
      ],
      "execution_count": 14,
      "outputs": [
        {
          "output_type": "execute_result",
          "data": {
            "text/html": [
              "<div>\n",
              "<style scoped>\n",
              "    .dataframe tbody tr th:only-of-type {\n",
              "        vertical-align: middle;\n",
              "    }\n",
              "\n",
              "    .dataframe tbody tr th {\n",
              "        vertical-align: top;\n",
              "    }\n",
              "\n",
              "    .dataframe thead th {\n",
              "        text-align: right;\n",
              "    }\n",
              "</style>\n",
              "<table border=\"1\" class=\"dataframe\">\n",
              "  <thead>\n",
              "    <tr style=\"text-align: right;\">\n",
              "      <th></th>\n",
              "      <th>Rate</th>\n",
              "      <th>min_wage</th>\n",
              "    </tr>\n",
              "  </thead>\n",
              "  <tbody>\n",
              "    <tr>\n",
              "      <th>Rate</th>\n",
              "      <td>9.687873</td>\n",
              "      <td>0.651586</td>\n",
              "    </tr>\n",
              "    <tr>\n",
              "      <th>min_wage</th>\n",
              "      <td>0.651586</td>\n",
              "      <td>1.874228</td>\n",
              "    </tr>\n",
              "  </tbody>\n",
              "</table>\n",
              "</div>"
            ],
            "text/plain": [
              "              Rate  min_wage\n",
              "Rate      9.687873  0.651586\n",
              "min_wage  0.651586  1.874228"
            ]
          },
          "metadata": {
            "tags": []
          },
          "execution_count": 14
        }
      ]
    },
    {
      "cell_type": "code",
      "metadata": {
        "id": "SYrcf3yYefrf",
        "colab_type": "code",
        "colab": {}
      },
      "source": [
        "#There is a pretty strong covariance between them which implies that they do tend to vary together but the final impact of one on the other is not so much.\n",
        "#lets try this new dataset with another one to move more deeper.\n",
        "pres16 = pd.read_csv(\"/pres16results.csv\")\n",
        "#This is the US Election results dataset of 2016"
      ],
      "execution_count": 15,
      "outputs": []
    },
    {
      "cell_type": "code",
      "metadata": {
        "id": "eF-G53U9h3VB",
        "colab_type": "code",
        "colab": {
          "base_uri": "https://localhost:8080/",
          "height": 309
        },
        "outputId": "9ad51931-4152-41ef-f137-9197c9ec7e13"
      },
      "source": [
        "pres16.head()"
      ],
      "execution_count": 16,
      "outputs": [
        {
          "output_type": "execute_result",
          "data": {
            "text/html": [
              "<div>\n",
              "<style scoped>\n",
              "    .dataframe tbody tr th:only-of-type {\n",
              "        vertical-align: middle;\n",
              "    }\n",
              "\n",
              "    .dataframe tbody tr th {\n",
              "        vertical-align: top;\n",
              "    }\n",
              "\n",
              "    .dataframe thead th {\n",
              "        text-align: right;\n",
              "    }\n",
              "</style>\n",
              "<table border=\"1\" class=\"dataframe\">\n",
              "  <thead>\n",
              "    <tr style=\"text-align: right;\">\n",
              "      <th></th>\n",
              "      <th>county</th>\n",
              "      <th>fips</th>\n",
              "      <th>cand</th>\n",
              "      <th>st</th>\n",
              "      <th>pct_report</th>\n",
              "      <th>votes</th>\n",
              "      <th>total_votes</th>\n",
              "      <th>pct</th>\n",
              "      <th>lead</th>\n",
              "    </tr>\n",
              "  </thead>\n",
              "  <tbody>\n",
              "    <tr>\n",
              "      <th>0</th>\n",
              "      <td>NaN</td>\n",
              "      <td>US</td>\n",
              "      <td>Donald Trump</td>\n",
              "      <td>US</td>\n",
              "      <td>0.9951</td>\n",
              "      <td>60350241.0</td>\n",
              "      <td>127592176.0</td>\n",
              "      <td>0.472993</td>\n",
              "      <td>Donald Trump</td>\n",
              "    </tr>\n",
              "    <tr>\n",
              "      <th>1</th>\n",
              "      <td>NaN</td>\n",
              "      <td>US</td>\n",
              "      <td>Hillary Clinton</td>\n",
              "      <td>US</td>\n",
              "      <td>0.9951</td>\n",
              "      <td>60981118.0</td>\n",
              "      <td>127592176.0</td>\n",
              "      <td>0.477938</td>\n",
              "      <td>Donald Trump</td>\n",
              "    </tr>\n",
              "    <tr>\n",
              "      <th>2</th>\n",
              "      <td>NaN</td>\n",
              "      <td>US</td>\n",
              "      <td>Gary Johnson</td>\n",
              "      <td>US</td>\n",
              "      <td>0.9951</td>\n",
              "      <td>4164589.0</td>\n",
              "      <td>127592176.0</td>\n",
              "      <td>0.032640</td>\n",
              "      <td>Donald Trump</td>\n",
              "    </tr>\n",
              "    <tr>\n",
              "      <th>3</th>\n",
              "      <td>NaN</td>\n",
              "      <td>US</td>\n",
              "      <td>Jill Stein</td>\n",
              "      <td>US</td>\n",
              "      <td>0.9951</td>\n",
              "      <td>1255968.0</td>\n",
              "      <td>127592176.0</td>\n",
              "      <td>0.009844</td>\n",
              "      <td>Donald Trump</td>\n",
              "    </tr>\n",
              "    <tr>\n",
              "      <th>4</th>\n",
              "      <td>NaN</td>\n",
              "      <td>US</td>\n",
              "      <td>Evan McMullin</td>\n",
              "      <td>US</td>\n",
              "      <td>0.9951</td>\n",
              "      <td>451636.0</td>\n",
              "      <td>127592176.0</td>\n",
              "      <td>0.003540</td>\n",
              "      <td>Donald Trump</td>\n",
              "    </tr>\n",
              "  </tbody>\n",
              "</table>\n",
              "</div>"
            ],
            "text/plain": [
              "  county fips             cand  ...  total_votes       pct          lead\n",
              "0    NaN   US     Donald Trump  ...  127592176.0  0.472993  Donald Trump\n",
              "1    NaN   US  Hillary Clinton  ...  127592176.0  0.477938  Donald Trump\n",
              "2    NaN   US     Gary Johnson  ...  127592176.0  0.032640  Donald Trump\n",
              "3    NaN   US       Jill Stein  ...  127592176.0  0.009844  Donald Trump\n",
              "4    NaN   US    Evan McMullin  ...  127592176.0  0.003540  Donald Trump\n",
              "\n",
              "[5 rows x 9 columns]"
            ]
          },
          "metadata": {
            "tags": []
          },
          "execution_count": 16
        }
      ]
    },
    {
      "cell_type": "code",
      "metadata": {
        "id": "E7hSIDa0iFph",
        "colab_type": "code",
        "colab": {}
      },
      "source": [
        "top_candidates = pres16.head(10)['cand'].values"
      ],
      "execution_count": 17,
      "outputs": []
    },
    {
      "cell_type": "code",
      "metadata": {
        "id": "qrXL_904jiP6",
        "colab_type": "code",
        "colab": {
          "base_uri": "https://localhost:8080/",
          "height": 85
        },
        "outputId": "4b2b8f72-a4af-480b-e397-41c1d1fd58d3"
      },
      "source": [
        "top_candidates"
      ],
      "execution_count": 18,
      "outputs": [
        {
          "output_type": "execute_result",
          "data": {
            "text/plain": [
              "array(['Donald Trump', 'Hillary Clinton', 'Gary Johnson', 'Jill Stein',\n",
              "       'Evan McMullin', 'Darrell Castle', 'Gloria La Riva',\n",
              "       'Rocky De La Fuente', ' None of these candidates',\n",
              "       'Richard Duncan'], dtype=object)"
            ]
          },
          "metadata": {
            "tags": []
          },
          "execution_count": 18
        }
      ]
    },
    {
      "cell_type": "code",
      "metadata": {
        "id": "SkFB71PKjoBL",
        "colab_type": "code",
        "colab": {}
      },
      "source": [
        "county_2015 = unemp[(unemp['Year']==2015)&(unemp['Month']=='February')] # Removing the data redundant to our cause."
      ],
      "execution_count": 19,
      "outputs": []
    },
    {
      "cell_type": "code",
      "metadata": {
        "id": "kZUL43Rwldp7",
        "colab_type": "code",
        "colab": {
          "base_uri": "https://localhost:8080/",
          "height": 204
        },
        "outputId": "f713cc26-cfb2-4eba-9286-491e519ac030"
      },
      "source": [
        "county_2015.head()"
      ],
      "execution_count": 20,
      "outputs": [
        {
          "output_type": "execute_result",
          "data": {
            "text/html": [
              "<div>\n",
              "<style scoped>\n",
              "    .dataframe tbody tr th:only-of-type {\n",
              "        vertical-align: middle;\n",
              "    }\n",
              "\n",
              "    .dataframe tbody tr th {\n",
              "        vertical-align: top;\n",
              "    }\n",
              "\n",
              "    .dataframe thead th {\n",
              "        text-align: right;\n",
              "    }\n",
              "</style>\n",
              "<table border=\"1\" class=\"dataframe\">\n",
              "  <thead>\n",
              "    <tr style=\"text-align: right;\">\n",
              "      <th></th>\n",
              "      <th>Year</th>\n",
              "      <th>Month</th>\n",
              "      <th>State</th>\n",
              "      <th>County</th>\n",
              "      <th>Rate</th>\n",
              "      <th>min_wage</th>\n",
              "    </tr>\n",
              "  </thead>\n",
              "  <tbody>\n",
              "    <tr>\n",
              "      <th>0</th>\n",
              "      <td>2015</td>\n",
              "      <td>February</td>\n",
              "      <td>Mississippi</td>\n",
              "      <td>Newton County</td>\n",
              "      <td>6.1</td>\n",
              "      <td>NaN</td>\n",
              "    </tr>\n",
              "    <tr>\n",
              "      <th>1</th>\n",
              "      <td>2015</td>\n",
              "      <td>February</td>\n",
              "      <td>Mississippi</td>\n",
              "      <td>Panola County</td>\n",
              "      <td>9.4</td>\n",
              "      <td>NaN</td>\n",
              "    </tr>\n",
              "    <tr>\n",
              "      <th>2</th>\n",
              "      <td>2015</td>\n",
              "      <td>February</td>\n",
              "      <td>Mississippi</td>\n",
              "      <td>Monroe County</td>\n",
              "      <td>7.9</td>\n",
              "      <td>NaN</td>\n",
              "    </tr>\n",
              "    <tr>\n",
              "      <th>3</th>\n",
              "      <td>2015</td>\n",
              "      <td>February</td>\n",
              "      <td>Mississippi</td>\n",
              "      <td>Hinds County</td>\n",
              "      <td>6.1</td>\n",
              "      <td>NaN</td>\n",
              "    </tr>\n",
              "    <tr>\n",
              "      <th>4</th>\n",
              "      <td>2015</td>\n",
              "      <td>February</td>\n",
              "      <td>Mississippi</td>\n",
              "      <td>Kemper County</td>\n",
              "      <td>10.6</td>\n",
              "      <td>NaN</td>\n",
              "    </tr>\n",
              "  </tbody>\n",
              "</table>\n",
              "</div>"
            ],
            "text/plain": [
              "   Year     Month        State         County  Rate  min_wage\n",
              "0  2015  February  Mississippi  Newton County   6.1       NaN\n",
              "1  2015  February  Mississippi  Panola County   9.4       NaN\n",
              "2  2015  February  Mississippi  Monroe County   7.9       NaN\n",
              "3  2015  February  Mississippi   Hinds County   6.1       NaN\n",
              "4  2015  February  Mississippi  Kemper County  10.6       NaN"
            ]
          },
          "metadata": {
            "tags": []
          },
          "execution_count": 20
        }
      ]
    },
    {
      "cell_type": "code",
      "metadata": {
        "id": "cobhXVpSlhe7",
        "colab_type": "code",
        "colab": {}
      },
      "source": [
        "state_abbrev = pd.read_csv(\"/state_abbrev.csv\", index_col = 0)#Importinh our previously created abbreviation dataset to use it again."
      ],
      "execution_count": 21,
      "outputs": []
    },
    {
      "cell_type": "code",
      "metadata": {
        "id": "-pudXoD6mA5F",
        "colab_type": "code",
        "colab": {
          "base_uri": "https://localhost:8080/",
          "height": 204
        },
        "outputId": "238b62eb-f2d3-4a5c-c91d-d9547ab29788"
      },
      "source": [
        "state_abbrev.head()"
      ],
      "execution_count": 22,
      "outputs": [
        {
          "output_type": "execute_result",
          "data": {
            "text/html": [
              "<div>\n",
              "<style scoped>\n",
              "    .dataframe tbody tr th:only-of-type {\n",
              "        vertical-align: middle;\n",
              "    }\n",
              "\n",
              "    .dataframe tbody tr th {\n",
              "        vertical-align: top;\n",
              "    }\n",
              "\n",
              "    .dataframe thead th {\n",
              "        text-align: right;\n",
              "    }\n",
              "</style>\n",
              "<table border=\"1\" class=\"dataframe\">\n",
              "  <thead>\n",
              "    <tr style=\"text-align: right;\">\n",
              "      <th></th>\n",
              "      <th>State/District</th>\n",
              "      <th>Abbreviation</th>\n",
              "      <th>Postal Code</th>\n",
              "    </tr>\n",
              "  </thead>\n",
              "  <tbody>\n",
              "    <tr>\n",
              "      <th>0</th>\n",
              "      <td>Alabama</td>\n",
              "      <td>Ala.</td>\n",
              "      <td>AL</td>\n",
              "    </tr>\n",
              "    <tr>\n",
              "      <th>1</th>\n",
              "      <td>Alaska</td>\n",
              "      <td>Alaska</td>\n",
              "      <td>AK</td>\n",
              "    </tr>\n",
              "    <tr>\n",
              "      <th>2</th>\n",
              "      <td>Arizona</td>\n",
              "      <td>Ariz.</td>\n",
              "      <td>AZ</td>\n",
              "    </tr>\n",
              "    <tr>\n",
              "      <th>3</th>\n",
              "      <td>Arkansas</td>\n",
              "      <td>Ark.</td>\n",
              "      <td>AR</td>\n",
              "    </tr>\n",
              "    <tr>\n",
              "      <th>4</th>\n",
              "      <td>California</td>\n",
              "      <td>Calif.</td>\n",
              "      <td>CA</td>\n",
              "    </tr>\n",
              "  </tbody>\n",
              "</table>\n",
              "</div>"
            ],
            "text/plain": [
              "  State/District Abbreviation Postal Code\n",
              "0        Alabama         Ala.          AL\n",
              "1         Alaska       Alaska          AK\n",
              "2        Arizona        Ariz.          AZ\n",
              "3       Arkansas         Ark.          AR\n",
              "4     California       Calif.          CA"
            ]
          },
          "metadata": {
            "tags": []
          },
          "execution_count": 22
        }
      ]
    },
    {
      "cell_type": "code",
      "metadata": {
        "id": "_tqvslu6mCgy",
        "colab_type": "code",
        "colab": {}
      },
      "source": [
        "state_abbrev = state_abbrev[['State/District','Postal Code']]"
      ],
      "execution_count": 23,
      "outputs": []
    },
    {
      "cell_type": "code",
      "metadata": {
        "id": "MgbNi3DqqLug",
        "colab_type": "code",
        "colab": {}
      },
      "source": [
        "state_abbrev.set_index('State/District',inplace=True)"
      ],
      "execution_count": 24,
      "outputs": []
    },
    {
      "cell_type": "code",
      "metadata": {
        "id": "OjiH7f2Z5odX",
        "colab_type": "code",
        "colab": {
          "base_uri": "https://localhost:8080/",
          "height": 235
        },
        "outputId": "7a22acbb-c904-4c12-da76-d580bcef7e55"
      },
      "source": [
        "state_abbrev.head()"
      ],
      "execution_count": 25,
      "outputs": [
        {
          "output_type": "execute_result",
          "data": {
            "text/html": [
              "<div>\n",
              "<style scoped>\n",
              "    .dataframe tbody tr th:only-of-type {\n",
              "        vertical-align: middle;\n",
              "    }\n",
              "\n",
              "    .dataframe tbody tr th {\n",
              "        vertical-align: top;\n",
              "    }\n",
              "\n",
              "    .dataframe thead th {\n",
              "        text-align: right;\n",
              "    }\n",
              "</style>\n",
              "<table border=\"1\" class=\"dataframe\">\n",
              "  <thead>\n",
              "    <tr style=\"text-align: right;\">\n",
              "      <th></th>\n",
              "      <th>Postal Code</th>\n",
              "    </tr>\n",
              "    <tr>\n",
              "      <th>State/District</th>\n",
              "      <th></th>\n",
              "    </tr>\n",
              "  </thead>\n",
              "  <tbody>\n",
              "    <tr>\n",
              "      <th>Alabama</th>\n",
              "      <td>AL</td>\n",
              "    </tr>\n",
              "    <tr>\n",
              "      <th>Alaska</th>\n",
              "      <td>AK</td>\n",
              "    </tr>\n",
              "    <tr>\n",
              "      <th>Arizona</th>\n",
              "      <td>AZ</td>\n",
              "    </tr>\n",
              "    <tr>\n",
              "      <th>Arkansas</th>\n",
              "      <td>AR</td>\n",
              "    </tr>\n",
              "    <tr>\n",
              "      <th>California</th>\n",
              "      <td>CA</td>\n",
              "    </tr>\n",
              "  </tbody>\n",
              "</table>\n",
              "</div>"
            ],
            "text/plain": [
              "               Postal Code\n",
              "State/District            \n",
              "Alabama                 AL\n",
              "Alaska                  AK\n",
              "Arizona                 AZ\n",
              "Arkansas                AR\n",
              "California              CA"
            ]
          },
          "metadata": {
            "tags": []
          },
          "execution_count": 25
        }
      ]
    },
    {
      "cell_type": "code",
      "metadata": {
        "id": "dw0VfSCmqlFH",
        "colab_type": "code",
        "colab": {}
      },
      "source": [
        "state_abbrev_dict = state_abbrev.to_dict()['Postal Code']"
      ],
      "execution_count": 26,
      "outputs": []
    },
    {
      "cell_type": "code",
      "metadata": {
        "id": "EyFsv1Jd5ME-",
        "colab_type": "code",
        "colab": {
          "base_uri": "https://localhost:8080/",
          "height": 884
        },
        "outputId": "d65e279a-2252-4f16-db82-359c9fd6ddef"
      },
      "source": [
        "state_abbrev_dict"
      ],
      "execution_count": 27,
      "outputs": [
        {
          "output_type": "execute_result",
          "data": {
            "text/plain": [
              "{'Alabama': 'AL',\n",
              " 'Alaska': 'AK',\n",
              " 'Arizona': 'AZ',\n",
              " 'Arkansas': 'AR',\n",
              " 'California': 'CA',\n",
              " 'Colorado': 'CO',\n",
              " 'Connecticut': 'CT',\n",
              " 'Delaware': 'DE',\n",
              " 'District of Columbia': 'DC',\n",
              " 'Florida': 'FL',\n",
              " 'Georgia': 'GA',\n",
              " 'Hawaii': 'HI',\n",
              " 'Idaho': 'ID',\n",
              " 'Illinois': 'IL',\n",
              " 'Indiana': 'IN',\n",
              " 'Iowa': 'IA',\n",
              " 'Kansas': 'KS',\n",
              " 'Kentucky': 'KY',\n",
              " 'Louisiana': 'LA',\n",
              " 'Maine': 'ME',\n",
              " 'Maryland': 'MD',\n",
              " 'Massachusetts': 'MA',\n",
              " 'Michigan': 'MI',\n",
              " 'Minnesota': 'MN',\n",
              " 'Mississippi': 'MS',\n",
              " 'Missouri': 'MO',\n",
              " 'Montana': 'MT',\n",
              " 'Nebraska': 'NE',\n",
              " 'Nevada': 'NV',\n",
              " 'New Hampshire': 'NH',\n",
              " 'New Jersey': 'NJ',\n",
              " 'New Mexico': 'NM',\n",
              " 'New York': 'NY',\n",
              " 'North Carolina': 'NC',\n",
              " 'North Dakota': 'ND',\n",
              " 'Ohio': 'OH',\n",
              " 'Oklahoma': 'OK',\n",
              " 'Oregon': 'OR',\n",
              " 'Pennsylvania': 'PA',\n",
              " 'Rhode Island': 'RI',\n",
              " 'South Carolina': 'SC',\n",
              " 'South Dakota': 'SD',\n",
              " 'Tennessee': 'TN',\n",
              " 'Texas': 'TX',\n",
              " 'Utah': 'UT',\n",
              " 'Vermont': 'VT',\n",
              " 'Virginia': 'VA',\n",
              " 'Washington': 'WA',\n",
              " 'West Virginia': 'WV',\n",
              " 'Wisconsin': 'WI',\n",
              " 'Wyoming': 'WY'}"
            ]
          },
          "metadata": {
            "tags": []
          },
          "execution_count": 27
        }
      ]
    },
    {
      "cell_type": "code",
      "metadata": {
        "id": "aQ7pllCNq0Bu",
        "colab_type": "code",
        "colab": {
          "base_uri": "https://localhost:8080/",
          "height": 139
        },
        "outputId": "bbd626d1-b64e-49f9-a89b-a475163f1cc5"
      },
      "source": [
        "county_2015['State'] = county_2015['State'].map(state_abbrev_dict) #mapping the abbreviations with the county dataset this time."
      ],
      "execution_count": 28,
      "outputs": [
        {
          "output_type": "stream",
          "text": [
            "/usr/local/lib/python3.6/dist-packages/ipykernel_launcher.py:1: SettingWithCopyWarning: \n",
            "A value is trying to be set on a copy of a slice from a DataFrame.\n",
            "Try using .loc[row_indexer,col_indexer] = value instead\n",
            "\n",
            "See the caveats in the documentation: https://pandas.pydata.org/pandas-docs/stable/user_guide/indexing.html#returning-a-view-versus-a-copy\n",
            "  \"\"\"Entry point for launching an IPython kernel.\n"
          ],
          "name": "stderr"
        }
      ]
    },
    {
      "cell_type": "code",
      "metadata": {
        "id": "EGnLxTMqrGEy",
        "colab_type": "code",
        "colab": {
          "base_uri": "https://localhost:8080/",
          "height": 34
        },
        "outputId": "b3a53323-abfd-4dd8-dd3e-3547adf79cc9"
      },
      "source": [
        "len(county_2015)"
      ],
      "execution_count": 29,
      "outputs": [
        {
          "output_type": "execute_result",
          "data": {
            "text/plain": [
              "2802"
            ]
          },
          "metadata": {
            "tags": []
          },
          "execution_count": 29
        }
      ]
    },
    {
      "cell_type": "code",
      "metadata": {
        "id": "GUqV318KrOcm",
        "colab_type": "code",
        "colab": {
          "base_uri": "https://localhost:8080/",
          "height": 34
        },
        "outputId": "bb8defbc-2f8c-438a-a8fb-ec913e5da196"
      },
      "source": [
        "len(pres16)"
      ],
      "execution_count": 30,
      "outputs": [
        {
          "output_type": "execute_result",
          "data": {
            "text/plain": [
              "18475"
            ]
          },
          "metadata": {
            "tags": []
          },
          "execution_count": 30
        }
      ]
    },
    {
      "cell_type": "code",
      "metadata": {
        "id": "xz1yIEpe-8EX",
        "colab_type": "code",
        "colab": {}
      },
      "source": [
        "#Since pres16 is longer we will map that to county_15."
      ],
      "execution_count": null,
      "outputs": []
    },
    {
      "cell_type": "code",
      "metadata": {
        "id": "3zXooQCHrSIT",
        "colab_type": "code",
        "colab": {}
      },
      "source": [
        "pres16.rename(columns={'county': 'County', 'st':'State'}, inplace=True)#Since we are going to use .join to combine we need to index both pres and county by same Index which will be state and county here."
      ],
      "execution_count": 31,
      "outputs": []
    },
    {
      "cell_type": "code",
      "metadata": {
        "id": "5qetKxATrj5x",
        "colab_type": "code",
        "colab": {
          "base_uri": "https://localhost:8080/",
          "height": 309
        },
        "outputId": "4adde8f2-d90c-41e0-b716-329d4a3c2ef2"
      },
      "source": [
        "pres16.head()"
      ],
      "execution_count": 32,
      "outputs": [
        {
          "output_type": "execute_result",
          "data": {
            "text/html": [
              "<div>\n",
              "<style scoped>\n",
              "    .dataframe tbody tr th:only-of-type {\n",
              "        vertical-align: middle;\n",
              "    }\n",
              "\n",
              "    .dataframe tbody tr th {\n",
              "        vertical-align: top;\n",
              "    }\n",
              "\n",
              "    .dataframe thead th {\n",
              "        text-align: right;\n",
              "    }\n",
              "</style>\n",
              "<table border=\"1\" class=\"dataframe\">\n",
              "  <thead>\n",
              "    <tr style=\"text-align: right;\">\n",
              "      <th></th>\n",
              "      <th>County</th>\n",
              "      <th>fips</th>\n",
              "      <th>cand</th>\n",
              "      <th>State</th>\n",
              "      <th>pct_report</th>\n",
              "      <th>votes</th>\n",
              "      <th>total_votes</th>\n",
              "      <th>pct</th>\n",
              "      <th>lead</th>\n",
              "    </tr>\n",
              "  </thead>\n",
              "  <tbody>\n",
              "    <tr>\n",
              "      <th>0</th>\n",
              "      <td>NaN</td>\n",
              "      <td>US</td>\n",
              "      <td>Donald Trump</td>\n",
              "      <td>US</td>\n",
              "      <td>0.9951</td>\n",
              "      <td>60350241.0</td>\n",
              "      <td>127592176.0</td>\n",
              "      <td>0.472993</td>\n",
              "      <td>Donald Trump</td>\n",
              "    </tr>\n",
              "    <tr>\n",
              "      <th>1</th>\n",
              "      <td>NaN</td>\n",
              "      <td>US</td>\n",
              "      <td>Hillary Clinton</td>\n",
              "      <td>US</td>\n",
              "      <td>0.9951</td>\n",
              "      <td>60981118.0</td>\n",
              "      <td>127592176.0</td>\n",
              "      <td>0.477938</td>\n",
              "      <td>Donald Trump</td>\n",
              "    </tr>\n",
              "    <tr>\n",
              "      <th>2</th>\n",
              "      <td>NaN</td>\n",
              "      <td>US</td>\n",
              "      <td>Gary Johnson</td>\n",
              "      <td>US</td>\n",
              "      <td>0.9951</td>\n",
              "      <td>4164589.0</td>\n",
              "      <td>127592176.0</td>\n",
              "      <td>0.032640</td>\n",
              "      <td>Donald Trump</td>\n",
              "    </tr>\n",
              "    <tr>\n",
              "      <th>3</th>\n",
              "      <td>NaN</td>\n",
              "      <td>US</td>\n",
              "      <td>Jill Stein</td>\n",
              "      <td>US</td>\n",
              "      <td>0.9951</td>\n",
              "      <td>1255968.0</td>\n",
              "      <td>127592176.0</td>\n",
              "      <td>0.009844</td>\n",
              "      <td>Donald Trump</td>\n",
              "    </tr>\n",
              "    <tr>\n",
              "      <th>4</th>\n",
              "      <td>NaN</td>\n",
              "      <td>US</td>\n",
              "      <td>Evan McMullin</td>\n",
              "      <td>US</td>\n",
              "      <td>0.9951</td>\n",
              "      <td>451636.0</td>\n",
              "      <td>127592176.0</td>\n",
              "      <td>0.003540</td>\n",
              "      <td>Donald Trump</td>\n",
              "    </tr>\n",
              "  </tbody>\n",
              "</table>\n",
              "</div>"
            ],
            "text/plain": [
              "  County fips             cand  ...  total_votes       pct          lead\n",
              "0    NaN   US     Donald Trump  ...  127592176.0  0.472993  Donald Trump\n",
              "1    NaN   US  Hillary Clinton  ...  127592176.0  0.477938  Donald Trump\n",
              "2    NaN   US     Gary Johnson  ...  127592176.0  0.032640  Donald Trump\n",
              "3    NaN   US       Jill Stein  ...  127592176.0  0.009844  Donald Trump\n",
              "4    NaN   US    Evan McMullin  ...  127592176.0  0.003540  Donald Trump\n",
              "\n",
              "[5 rows x 9 columns]"
            ]
          },
          "metadata": {
            "tags": []
          },
          "execution_count": 32
        }
      ]
    },
    {
      "cell_type": "code",
      "metadata": {
        "id": "Zkxwny1mrqst",
        "colab_type": "code",
        "colab": {}
      },
      "source": [
        "for i in [county_2015, pres16]:\n",
        "    i.set_index([\"County\", \"State\"], inplace=True)"
      ],
      "execution_count": 33,
      "outputs": []
    },
    {
      "cell_type": "code",
      "metadata": {
        "id": "ILj9xTjtr9a_",
        "colab_type": "code",
        "colab": {}
      },
      "source": [
        "pres16 = pres16[pres16['cand']=='Donald Trump']\n",
        "pres16 = pres16[['pct']]\n",
        "pres16.dropna(inplace=True)\n"
      ],
      "execution_count": 34,
      "outputs": []
    },
    {
      "cell_type": "code",
      "metadata": {
        "id": "VxxGKnBzsrYv",
        "colab_type": "code",
        "colab": {
          "base_uri": "https://localhost:8080/",
          "height": 235
        },
        "outputId": "1172039d-2b30-466e-f896-910580648f18"
      },
      "source": [
        "pres16.head()"
      ],
      "execution_count": 35,
      "outputs": [
        {
          "output_type": "execute_result",
          "data": {
            "text/html": [
              "<div>\n",
              "<style scoped>\n",
              "    .dataframe tbody tr th:only-of-type {\n",
              "        vertical-align: middle;\n",
              "    }\n",
              "\n",
              "    .dataframe tbody tr th {\n",
              "        vertical-align: top;\n",
              "    }\n",
              "\n",
              "    .dataframe thead th {\n",
              "        text-align: right;\n",
              "    }\n",
              "</style>\n",
              "<table border=\"1\" class=\"dataframe\">\n",
              "  <thead>\n",
              "    <tr style=\"text-align: right;\">\n",
              "      <th></th>\n",
              "      <th></th>\n",
              "      <th>pct</th>\n",
              "    </tr>\n",
              "    <tr>\n",
              "      <th>County</th>\n",
              "      <th>State</th>\n",
              "      <th></th>\n",
              "    </tr>\n",
              "  </thead>\n",
              "  <tbody>\n",
              "    <tr>\n",
              "      <th rowspan=\"5\" valign=\"top\">NaN</th>\n",
              "      <th>US</th>\n",
              "      <td>0.472993</td>\n",
              "    </tr>\n",
              "    <tr>\n",
              "      <th>CA</th>\n",
              "      <td>0.330641</td>\n",
              "    </tr>\n",
              "    <tr>\n",
              "      <th>FL</th>\n",
              "      <td>0.490640</td>\n",
              "    </tr>\n",
              "    <tr>\n",
              "      <th>TX</th>\n",
              "      <td>0.525830</td>\n",
              "    </tr>\n",
              "    <tr>\n",
              "      <th>NY</th>\n",
              "      <td>0.374752</td>\n",
              "    </tr>\n",
              "  </tbody>\n",
              "</table>\n",
              "</div>"
            ],
            "text/plain": [
              "                   pct\n",
              "County State          \n",
              "NaN    US     0.472993\n",
              "       CA     0.330641\n",
              "       FL     0.490640\n",
              "       TX     0.525830\n",
              "       NY     0.374752"
            ]
          },
          "metadata": {
            "tags": []
          },
          "execution_count": 35
        }
      ]
    },
    {
      "cell_type": "code",
      "metadata": {
        "id": "R4T3WEidswtz",
        "colab_type": "code",
        "colab": {
          "base_uri": "https://localhost:8080/",
          "height": 235
        },
        "outputId": "5070386a-a5ee-4e18-e02f-b577b3706cb9"
      },
      "source": [
        "county_2015.head()"
      ],
      "execution_count": 36,
      "outputs": [
        {
          "output_type": "execute_result",
          "data": {
            "text/html": [
              "<div>\n",
              "<style scoped>\n",
              "    .dataframe tbody tr th:only-of-type {\n",
              "        vertical-align: middle;\n",
              "    }\n",
              "\n",
              "    .dataframe tbody tr th {\n",
              "        vertical-align: top;\n",
              "    }\n",
              "\n",
              "    .dataframe thead th {\n",
              "        text-align: right;\n",
              "    }\n",
              "</style>\n",
              "<table border=\"1\" class=\"dataframe\">\n",
              "  <thead>\n",
              "    <tr style=\"text-align: right;\">\n",
              "      <th></th>\n",
              "      <th></th>\n",
              "      <th>Year</th>\n",
              "      <th>Month</th>\n",
              "      <th>Rate</th>\n",
              "      <th>min_wage</th>\n",
              "    </tr>\n",
              "    <tr>\n",
              "      <th>County</th>\n",
              "      <th>State</th>\n",
              "      <th></th>\n",
              "      <th></th>\n",
              "      <th></th>\n",
              "      <th></th>\n",
              "    </tr>\n",
              "  </thead>\n",
              "  <tbody>\n",
              "    <tr>\n",
              "      <th>Newton County</th>\n",
              "      <th>MS</th>\n",
              "      <td>2015</td>\n",
              "      <td>February</td>\n",
              "      <td>6.1</td>\n",
              "      <td>NaN</td>\n",
              "    </tr>\n",
              "    <tr>\n",
              "      <th>Panola County</th>\n",
              "      <th>MS</th>\n",
              "      <td>2015</td>\n",
              "      <td>February</td>\n",
              "      <td>9.4</td>\n",
              "      <td>NaN</td>\n",
              "    </tr>\n",
              "    <tr>\n",
              "      <th>Monroe County</th>\n",
              "      <th>MS</th>\n",
              "      <td>2015</td>\n",
              "      <td>February</td>\n",
              "      <td>7.9</td>\n",
              "      <td>NaN</td>\n",
              "    </tr>\n",
              "    <tr>\n",
              "      <th>Hinds County</th>\n",
              "      <th>MS</th>\n",
              "      <td>2015</td>\n",
              "      <td>February</td>\n",
              "      <td>6.1</td>\n",
              "      <td>NaN</td>\n",
              "    </tr>\n",
              "    <tr>\n",
              "      <th>Kemper County</th>\n",
              "      <th>MS</th>\n",
              "      <td>2015</td>\n",
              "      <td>February</td>\n",
              "      <td>10.6</td>\n",
              "      <td>NaN</td>\n",
              "    </tr>\n",
              "  </tbody>\n",
              "</table>\n",
              "</div>"
            ],
            "text/plain": [
              "                     Year     Month  Rate  min_wage\n",
              "County        State                                \n",
              "Newton County MS     2015  February   6.1       NaN\n",
              "Panola County MS     2015  February   9.4       NaN\n",
              "Monroe County MS     2015  February   7.9       NaN\n",
              "Hinds County  MS     2015  February   6.1       NaN\n",
              "Kemper County MS     2015  February  10.6       NaN"
            ]
          },
          "metadata": {
            "tags": []
          },
          "execution_count": 36
        }
      ]
    },
    {
      "cell_type": "code",
      "metadata": {
        "id": "dNjj4kHEs666",
        "colab_type": "code",
        "colab": {}
      },
      "source": [
        "all_together = county_2015.merge(pres16, on=['County','State'])"
      ],
      "execution_count": 37,
      "outputs": []
    },
    {
      "cell_type": "code",
      "metadata": {
        "id": "vfdsoWUotQDZ",
        "colab_type": "code",
        "colab": {}
      },
      "source": [
        "all_together.dropna(inplace=True)\n",
        "all_together.drop('Year',axis=1, inplace=True)"
      ],
      "execution_count": 38,
      "outputs": []
    },
    {
      "cell_type": "code",
      "metadata": {
        "id": "-5bySHXptRtQ",
        "colab_type": "code",
        "colab": {
          "base_uri": "https://localhost:8080/",
          "height": 235
        },
        "outputId": "1343786e-403e-4d5b-f264-1cf333022694"
      },
      "source": [
        "all_together.head()"
      ],
      "execution_count": 39,
      "outputs": [
        {
          "output_type": "execute_result",
          "data": {
            "text/html": [
              "<div>\n",
              "<style scoped>\n",
              "    .dataframe tbody tr th:only-of-type {\n",
              "        vertical-align: middle;\n",
              "    }\n",
              "\n",
              "    .dataframe tbody tr th {\n",
              "        vertical-align: top;\n",
              "    }\n",
              "\n",
              "    .dataframe thead th {\n",
              "        text-align: right;\n",
              "    }\n",
              "</style>\n",
              "<table border=\"1\" class=\"dataframe\">\n",
              "  <thead>\n",
              "    <tr style=\"text-align: right;\">\n",
              "      <th></th>\n",
              "      <th></th>\n",
              "      <th>Month</th>\n",
              "      <th>Rate</th>\n",
              "      <th>min_wage</th>\n",
              "      <th>pct</th>\n",
              "    </tr>\n",
              "    <tr>\n",
              "      <th>County</th>\n",
              "      <th>State</th>\n",
              "      <th></th>\n",
              "      <th></th>\n",
              "      <th></th>\n",
              "      <th></th>\n",
              "    </tr>\n",
              "  </thead>\n",
              "  <tbody>\n",
              "    <tr>\n",
              "      <th>Major County</th>\n",
              "      <th>OK</th>\n",
              "      <td>February</td>\n",
              "      <td>2.6</td>\n",
              "      <td>2.11</td>\n",
              "      <td>0.864960</td>\n",
              "    </tr>\n",
              "    <tr>\n",
              "      <th>Pottawatomie County</th>\n",
              "      <th>OK</th>\n",
              "      <td>February</td>\n",
              "      <td>4.5</td>\n",
              "      <td>2.11</td>\n",
              "      <td>0.701342</td>\n",
              "    </tr>\n",
              "    <tr>\n",
              "      <th>Johnston County</th>\n",
              "      <th>OK</th>\n",
              "      <td>February</td>\n",
              "      <td>6.5</td>\n",
              "      <td>2.11</td>\n",
              "      <td>0.770057</td>\n",
              "    </tr>\n",
              "    <tr>\n",
              "      <th>Jefferson County</th>\n",
              "      <th>OK</th>\n",
              "      <td>February</td>\n",
              "      <td>5.0</td>\n",
              "      <td>2.11</td>\n",
              "      <td>0.812367</td>\n",
              "    </tr>\n",
              "    <tr>\n",
              "      <th>Beaver County</th>\n",
              "      <th>OK</th>\n",
              "      <td>February</td>\n",
              "      <td>2.8</td>\n",
              "      <td>2.11</td>\n",
              "      <td>0.888243</td>\n",
              "    </tr>\n",
              "  </tbody>\n",
              "</table>\n",
              "</div>"
            ],
            "text/plain": [
              "                              Month  Rate  min_wage       pct\n",
              "County              State                                    \n",
              "Major County        OK     February   2.6      2.11  0.864960\n",
              "Pottawatomie County OK     February   4.5      2.11  0.701342\n",
              "Johnston County     OK     February   6.5      2.11  0.770057\n",
              "Jefferson County    OK     February   5.0      2.11  0.812367\n",
              "Beaver County       OK     February   2.8      2.11  0.888243"
            ]
          },
          "metadata": {
            "tags": []
          },
          "execution_count": 39
        }
      ]
    },
    {
      "cell_type": "code",
      "metadata": {
        "id": "-2HEwU7h7OKp",
        "colab_type": "code",
        "colab": {
          "base_uri": "https://localhost:8080/",
          "height": 142
        },
        "outputId": "68c67326-94a0-426c-8607-40479d3c94c9"
      },
      "source": [
        "all_together.corr()"
      ],
      "execution_count": 40,
      "outputs": [
        {
          "output_type": "execute_result",
          "data": {
            "text/html": [
              "<div>\n",
              "<style scoped>\n",
              "    .dataframe tbody tr th:only-of-type {\n",
              "        vertical-align: middle;\n",
              "    }\n",
              "\n",
              "    .dataframe tbody tr th {\n",
              "        vertical-align: top;\n",
              "    }\n",
              "\n",
              "    .dataframe thead th {\n",
              "        text-align: right;\n",
              "    }\n",
              "</style>\n",
              "<table border=\"1\" class=\"dataframe\">\n",
              "  <thead>\n",
              "    <tr style=\"text-align: right;\">\n",
              "      <th></th>\n",
              "      <th>Rate</th>\n",
              "      <th>min_wage</th>\n",
              "      <th>pct</th>\n",
              "    </tr>\n",
              "  </thead>\n",
              "  <tbody>\n",
              "    <tr>\n",
              "      <th>Rate</th>\n",
              "      <td>1.000000</td>\n",
              "      <td>0.186689</td>\n",
              "      <td>-0.085985</td>\n",
              "    </tr>\n",
              "    <tr>\n",
              "      <th>min_wage</th>\n",
              "      <td>0.186689</td>\n",
              "      <td>1.000000</td>\n",
              "      <td>-0.325036</td>\n",
              "    </tr>\n",
              "    <tr>\n",
              "      <th>pct</th>\n",
              "      <td>-0.085985</td>\n",
              "      <td>-0.325036</td>\n",
              "      <td>1.000000</td>\n",
              "    </tr>\n",
              "  </tbody>\n",
              "</table>\n",
              "</div>"
            ],
            "text/plain": [
              "              Rate  min_wage       pct\n",
              "Rate      1.000000  0.186689 -0.085985\n",
              "min_wage  0.186689  1.000000 -0.325036\n",
              "pct      -0.085985 -0.325036  1.000000"
            ]
          },
          "metadata": {
            "tags": []
          },
          "execution_count": 40
        }
      ]
    },
    {
      "cell_type": "code",
      "metadata": {
        "id": "PnBe8LQ47RX6",
        "colab_type": "code",
        "colab": {
          "base_uri": "https://localhost:8080/",
          "height": 142
        },
        "outputId": "9a14c05b-8636-4d35-a577-5e22ffc51300"
      },
      "source": [
        "all_together.cov()"
      ],
      "execution_count": 41,
      "outputs": [
        {
          "output_type": "execute_result",
          "data": {
            "text/html": [
              "<div>\n",
              "<style scoped>\n",
              "    .dataframe tbody tr th:only-of-type {\n",
              "        vertical-align: middle;\n",
              "    }\n",
              "\n",
              "    .dataframe tbody tr th {\n",
              "        vertical-align: top;\n",
              "    }\n",
              "\n",
              "    .dataframe thead th {\n",
              "        text-align: right;\n",
              "    }\n",
              "</style>\n",
              "<table border=\"1\" class=\"dataframe\">\n",
              "  <thead>\n",
              "    <tr style=\"text-align: right;\">\n",
              "      <th></th>\n",
              "      <th>Rate</th>\n",
              "      <th>min_wage</th>\n",
              "      <th>pct</th>\n",
              "    </tr>\n",
              "  </thead>\n",
              "  <tbody>\n",
              "    <tr>\n",
              "      <th>Rate</th>\n",
              "      <td>5.743199</td>\n",
              "      <td>0.683870</td>\n",
              "      <td>-0.031771</td>\n",
              "    </tr>\n",
              "    <tr>\n",
              "      <th>min_wage</th>\n",
              "      <td>0.683870</td>\n",
              "      <td>2.336451</td>\n",
              "      <td>-0.076602</td>\n",
              "    </tr>\n",
              "    <tr>\n",
              "      <th>pct</th>\n",
              "      <td>-0.031771</td>\n",
              "      <td>-0.076602</td>\n",
              "      <td>0.023772</td>\n",
              "    </tr>\n",
              "  </tbody>\n",
              "</table>\n",
              "</div>"
            ],
            "text/plain": [
              "              Rate  min_wage       pct\n",
              "Rate      5.743199  0.683870 -0.031771\n",
              "min_wage  0.683870  2.336451 -0.076602\n",
              "pct      -0.031771 -0.076602  0.023772"
            ]
          },
          "metadata": {
            "tags": []
          },
          "execution_count": 41
        }
      ]
    },
    {
      "cell_type": "code",
      "metadata": {
        "id": "COW0Z9kG7Tuk",
        "colab_type": "code",
        "colab": {}
      },
      "source": [
        "#As we can see we have our final result here. min_wage has a negative correlation with the %vote for trump which implies that as the min_wage rises less people are going to vote for trump.\n",
        "#Although they are correlated they do not appear to vary together.\n",
        "#Maybe I have a little less knowledge on this subject and if somebody can throw in some few comments they are more than welcomed."
      ],
      "execution_count": null,
      "outputs": []
    }
  ]
}